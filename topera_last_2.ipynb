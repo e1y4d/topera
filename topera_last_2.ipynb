{
  "cells": [
    {
      "cell_type": "markdown",
      "metadata": {
        "id": "view-in-github",
        "colab_type": "text"
      },
      "source": [
        "<a href=\"https://colab.research.google.com/github/e1y4d/topera/blob/main/topera_last_2.ipynb\" target=\"_parent\"><img src=\"https://colab.research.google.com/assets/colab-badge.svg\" alt=\"Open In Colab\"/></a>"
      ]
    },
    {
      "cell_type": "code",
      "execution_count": 30,
      "metadata": {
        "id": "9G_x2YTjBoBl"
      },
      "outputs": [],
      "source": [
        "import json\n",
        "import numpy as np\n",
        "import pandas as pd\n",
        "from sklearn.preprocessing import LabelEncoder\n",
        "from sklearn.metrics.pairwise import cosine_similarity\n",
        "from sklearn.metrics.pairwise import euclidean_distances\n",
        "from sentence_transformers import SentenceTransformer, util\n",
        "from annoy import AnnoyIndex"
      ]
    },
    {
      "cell_type": "code",
      "execution_count": 59,
      "metadata": {
        "id": "S-U_X1n5o6ts",
        "colab": {
          "base_uri": "https://localhost:8080/"
        },
        "outputId": "176602d8-fe05-485b-b490-209a2fe80ac0"
      },
      "outputs": [
        {
          "output_type": "stream",
          "name": "stdout",
          "text": [
            "Drive already mounted at /content/drive; to attempt to forcibly remount, call drive.mount(\"/content/drive\", force_remount=True).\n"
          ]
        }
      ],
      "source": [
        "\n",
        "with open('user_response.json', 'r') as json_file:\n",
        "    jsondata = json.load(json_file)\n",
        "    print(\"Original data:\", jsondata)\n",
        "\n",
        "le = LabelEncoder()\n",
        "data = pd.DataFrame(jsondata).dropna().copy()\n",
        "global recommendations, k"
      ]
    },
    {
      "cell_type": "code",
      "execution_count": 87,
      "metadata": {
        "id": "JIW62W16SWa5",
        "outputId": "a0d3c920-5e74-4875-c08c-7dd653bf6bbd",
        "colab": {
          "base_uri": "https://localhost:8080/"
        }
      },
      "outputs": [
        {
          "output_type": "execute_result",
          "data": {
            "text/plain": [
              "{'React': ['6a42e8d3-3e26-41b7-9a5c-0a1f1f2a5ec0',\n",
              "  'f63b22fc-2de8-41a1-a45a-c34da9e547a5']}"
            ]
          },
          "metadata": {},
          "execution_count": 87
        }
      ],
      "source": [
        "def recommend_collaborators(user_id, k=5):\n",
        "\n",
        "    recommendations = {}\n",
        "    if user_id not in data['UserId'].tolist():\n",
        "        print(f\"User with ID {user_id} not found in data.\")\n",
        "        return recommendations  # Empty dictionary\n",
        "\n",
        "    user_technology = data[data[\"UserId\"] == user_id][[\"TechnologyOfInterest\"]]\n",
        "    for technology in user_technology[\"TechnologyOfInterest\"].explode().unique():\n",
        "        filtered_users = data[data['TechnologyLearned'] == technology]\n",
        "        filtered_users = filtered_users[filtered_users['UserId'] != user_id]\n",
        "\n",
        "        if len(filtered_users) == 0:\n",
        "            recommendations[technology] = \"No users found for this technology\"\n",
        "            continue\n",
        "\n",
        "        filtered = filtered_users.drop(columns=['TechnologyLearned', 'TechnologyOfInterest']).copy()\n",
        "        filtered['UserId'] = filtered['UserId'].astype(str)  # Ensure string user IDs\n",
        "        encoded_data = filtered.drop(columns=['UserId'])\n",
        "        encoded_data = encoded_data.apply(le.fit_transform, axis=0)\n",
        "        similarity_matrix = euclidean_distances(encoded_data)\n",
        "        similar_df = pd.DataFrame({'UserId': filtered['UserId'], 'Score': similarity_matrix[0]})\n",
        "        similar_df = similar_df.sort_values(by='Score', ascending=True)\n",
        "        similar_df = similar_df['UserId'].tolist()  # Select only User IDs\n",
        "        recommendations.setdefault(technology, similar_df)[:k] = similar_df[:k]\n",
        "\n",
        "    return recommendations\n",
        "\n",
        "# Example usage\n",
        "recommend_collaborators('e17bda85-98e1-4dc5-a7e5-3fd790116fcf')"
      ]
    },
    {
      "cell_type": "code",
      "source": [
        "import json\n",
        "import numpy as np\n",
        "import pandas as pd\n",
        "from sklearn.preprocessing import LabelEncoder\n",
        "from sentence_transformers import SentenceTransformer, util\n",
        "from annoy import AnnoyIndex\n",
        "from google.colab import drive\n",
        "\n",
        "drive.mount('/content/drive')\n",
        "with open('/content/drive/MyDrive/user_response.json', 'r') as json_file:\n",
        "    jsondata = json.load(json_file)\n",
        "\n",
        "le = LabelEncoder()\n",
        "data = pd.DataFrame(jsondata).dropna().copy()\n",
        "data['TechnologyOfInterest'] = data['TechnologyOfInterest'].apply(lambda x: x.split())\n",
        "\n",
        "# --- Sentence Embedding ---\n",
        "model = SentenceTransformer('all-mpnet-base-v2')\n",
        "all_technologies = set(t for techs in data['TechnologyOfInterest'] for t in techs)\n",
        "technology_embeddings = model.encode(list(all_technologies))\n",
        "\n",
        "dim = technology_embeddings.shape[1]\n",
        "ann_index = AnnoyIndex(dim, 'angular')\n",
        "for i, embedding in enumerate(technology_embeddings):\n",
        "    ann_index.add_item(i, embedding)\n",
        "ann_index.build(10)\n",
        "\n",
        "# --- Recommendation Function ---\n",
        "def recommend_collaborators(user_id, data, k=5):\n",
        "    if user_id not in data['UserId'].tolist():\n",
        "        print(f\"User with ID {user_id} not found in data.\")\n",
        "        return {}\n",
        "\n",
        "    user_technologies = data[data[\"UserId\"] == user_id][\"TechnologyOfInterest\"].tolist()[0]\n",
        "    other_users = data[data['UserId'] != user_id]\n",
        "\n",
        "    recommendations = {}\n",
        "    for technology in user_technologies:\n",
        "        user_embedding = model.encode([technology])\n",
        "        potential_match_indices, distances = ann_index.get_nns_by_vector(user_embedding[0], 10, include_distances=True)\n",
        "        potential_matches = other_users.iloc[potential_match_indices]\n",
        "        other_user_embeddings = model.encode(potential_matches['TechnologyOfInterest'].apply(lambda x: ' '.join(x)).tolist())\n",
        "        similarities = util.cos_sim(user_embedding, other_user_embeddings)[0].tolist()\n",
        "        similar_df = pd.DataFrame({'UserId': potential_matches['UserId'], 'Score': similarities}).sort_values(by='Score', ascending=False)\n",
        "        top_users = similar_df['UserId'].tolist()[:k]\n",
        "        recommendations[technology] = top_users if top_users else [\"No users found for this technology\"]\n",
        "\n",
        "    return recommendations\n",
        "\n",
        "# --- Example Usage ---\n",
        "recommend_collaborators('e17bda85-98e1-4dc5-a7e5-3fd790116fcf', data)\n"
      ],
      "metadata": {
        "colab": {
          "base_uri": "https://localhost:8080/"
        },
        "id": "dypAZMh5ewRB",
        "outputId": "43b2b1eb-6468-47fd-9624-416ea143adbe"
      },
      "execution_count": 99,
      "outputs": [
        {
          "output_type": "stream",
          "name": "stdout",
          "text": [
            "Drive already mounted at /content/drive; to attempt to forcibly remount, call drive.mount(\"/content/drive\", force_remount=True).\n"
          ]
        },
        {
          "output_type": "stream",
          "name": "stderr",
          "text": [
            "/usr/local/lib/python3.10/dist-packages/huggingface_hub/file_download.py:1132: FutureWarning: `resume_download` is deprecated and will be removed in version 1.0.0. Downloads always resume when possible. If you want to force a new download, use `force_download=True`.\n",
            "  warnings.warn(\n"
          ]
        },
        {
          "output_type": "execute_result",
          "data": {
            "text/plain": [
              "{'React': ['ad70ff26-d4d2-4e46-a789-305fc4f6b647',\n",
              "  'e46d51bf-3680-4e38-9ee9-9721787317b4',\n",
              "  'd72c4a24-5f9c-49d0-b8cb-d993cb47ef8b',\n",
              "  '2e84d2b1-2317-4b9b-a4d1-1ef47770f4dc',\n",
              "  '6a42e8d3-3e26-41b7-9a5c-0a1f1f2a5ec0']}"
            ]
          },
          "metadata": {},
          "execution_count": 99
        }
      ]
    },
    {
      "cell_type": "code",
      "source": [],
      "metadata": {
        "id": "IHPdsixMfTmH"
      },
      "execution_count": null,
      "outputs": []
    }
  ],
  "metadata": {
    "colab": {
      "provenance": [],
      "include_colab_link": true
    },
    "kernelspec": {
      "display_name": "Python 3",
      "name": "python3"
    },
    "language_info": {
      "codemirror_mode": {
        "name": "ipython",
        "version": 3
      },
      "file_extension": ".py",
      "mimetype": "text/x-python",
      "name": "python",
      "nbconvert_exporter": "python",
      "pygments_lexer": "ipython3",
      "version": "3.11.5"
    }
  },
  "nbformat": 4,
  "nbformat_minor": 0
}