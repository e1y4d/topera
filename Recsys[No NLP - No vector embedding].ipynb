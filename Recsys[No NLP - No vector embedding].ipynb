{
  "nbformat": 4,
  "nbformat_minor": 0,
  "metadata": {
    "colab": {
      "provenance": [],
      "authorship_tag": "ABX9TyN2+t4oIyVQSwvd0cNMlZg0",
      "include_colab_link": true
    },
    "kernelspec": {
      "name": "python3",
      "display_name": "Python 3"
    },
    "language_info": {
      "name": "python"
    }
  },
  "cells": [
    {
      "cell_type": "markdown",
      "metadata": {
        "id": "view-in-github",
        "colab_type": "text"
      },
      "source": [
        "<a href=\"https://colab.research.google.com/github/e1y4d/topera/blob/main/Recsys%5BNo%20NLP%20-%20No%20vector%20embedding%5D.ipynb\" target=\"_parent\"><img src=\"https://colab.research.google.com/assets/colab-badge.svg\" alt=\"Open In Colab\"/></a>"
      ]
    },
    {
      "cell_type": "code",
      "source": [
        "import json\n",
        "import numpy as np\n",
        "import pandas as pd\n",
        "from sklearn.preprocessing import LabelEncoder\n",
        "from sklearn.metrics.pairwise import cosine_similarity\n",
        "from google.colab import drive\n",
        "\n",
        "\n",
        "drive.mount('/content/drive')\n",
        "path = '/content/drive/My Drive/user_response.json'\n"
      ],
      "metadata": {
        "colab": {
          "base_uri": "https://localhost:8080/"
        },
        "id": "9G_x2YTjBoBl",
        "outputId": "66f9ff77-d2ad-43d4-fce4-af48bb53c029"
      },
      "execution_count": 14,
      "outputs": [
        {
          "output_type": "stream",
          "name": "stdout",
          "text": [
            "Drive already mounted at /content/drive; to attempt to forcibly remount, call drive.mount(\"/content/drive\", force_remount=True).\n"
          ]
        }
      ]
    },
    {
      "cell_type": "code",
      "execution_count": 140,
      "metadata": {
        "id": "836eeLupsIAP"
      },
      "outputs": [],
      "source": [
        "le = LabelEncoder()\n",
        "data = pd.read_json(path)\n",
        "newdata = data.dropna()\n",
        "newerdata = newdata.copy()\n",
        "global recommendations, k"
      ]
    },
    {
      "cell_type": "code",
      "source": [
        "def recommend_collaborators(user_id, k=5):\n",
        "\n",
        "  recommendations = {}  # Dictionary to store recommendations\n",
        "\n",
        "  # Create a similarity matrix excluding TrackLearned\n",
        "  filtered = newerdata.drop('TrackLearned', axis=1).copy()\n",
        "  filtered['UserId'] = filtered['UserId'].astype(str)  # Ensure string user IDs\n",
        "  encoded_data = filtered.apply(le.fit_transform, axis=0)\n",
        "  similarity_matrix = cosine_similarity(encoded_data)\n",
        "  similarity_df = pd.DataFrame(similarity_matrix, index=filtered['UserId'], columns=filtered['UserId'])\n",
        "\n",
        "  # Recommend for each technology (excluding user's learned tracks)\n",
        "  for technology in newerdata['TrackLearned'].explode().unique():\n",
        "    filtered_users = newerdata[newerdata['TrackLearned'] == technology]\n",
        "    filtered_users = filtered_users.drop('TrackLearned', axis=1)\n",
        "    encoded_filtered = filtered_users.apply(le.fit_transform, axis=0)\n",
        "    user_similarity = cosine_similarity(encoded_filtered)\n",
        "    similar_scores = pd.Series(user_similarity[0], index=filtered_users['UserId'])\n",
        "    similar_users = similar_scores.sort_values(ascending=False)[1:k+1].index.tolist()\n",
        "    recommendations.setdefault(technology, similar_users)[:k] = similar_users[:k]  # Truncate to top K\n",
        "\n",
        "\n",
        "  # Return final recommendations (deduplicate)\n",
        "  for technology, users in recommendations.items():\n",
        "    recommendations[technology] = list(set(users))  # Remove duplicates\n",
        "    return recommendations\n",
        "\n",
        "# Example usage\n",
        "recommend_collaborators('ad70ff26-d4d2-4e46-a789-305fc4f6b647')"
      ],
      "metadata": {
        "colab": {
          "base_uri": "https://localhost:8080/"
        },
        "id": "20msusT4D6Op",
        "outputId": "42e6bf15-3c82-485e-a838-d95a6da34c00"
      },
      "execution_count": 145,
      "outputs": [
        {
          "output_type": "execute_result",
          "data": {
            "text/plain": [
              "{'Full-stack': ['4d167a98-431b-4cf8-b27e-d72b3f67b38c',\n",
              "  '5a251675-3522-474b-afe4-69d94e2fd0e3',\n",
              "  'a7b36bfc-68b9-48a7-b5db-2b43734eb94c',\n",
              "  '8e7cb4ae-daae-4969-8f05-35af9ff47d0d'],\n",
              " 'Frontend': ['ad70ff26-d4d2-4e46-a789-305fc4f6b647',\n",
              "  'eb1cc09b-681d-479f-b720-cbe4a711c489',\n",
              "  'f63b22fc-2de8-41a1-a45a-c34da9e547a5',\n",
              "  'b2f9eae1-fdf4-4861-aeb0-053d46e1964c',\n",
              "  'e17bda85-98e1-4dc5-a7e5-3fd790116fcf'],\n",
              " 'Data Science': ['923842f4-6243-4394-8927-7e5306ed2d45',\n",
              "  'be935bae-6b52-4c3b-b7bb-22fe8fbbf4d3',\n",
              "  '24f8188f-222b-4b4e-8144-4b3b70c956fc'],\n",
              " 'Backend': ['d72c4a24-5f9c-49d0-b8cb-d993cb47ef8b',\n",
              "  'febf4b16-4bc9-4fd7-b489-7a95c5c0da12',\n",
              "  'a2a29f68-34b4-429d-8d47-f010375c9a9d',\n",
              "  '2e84d2b1-2317-4b9b-a4d1-1ef47770f4dc']}"
            ]
          },
          "metadata": {},
          "execution_count": 145
        }
      ]
    },
    {
      "cell_type": "code",
      "source": [
        "def refresh_recommendations():\n",
        "    \"\"\"\n",
        "    Performs recommendation refresh for each technology, excluding previously recommended users.\n",
        "    \"\"\"\n",
        "    excluded_users={}\n",
        "    for technology in newerdata['TrackLearned'].explode().unique():\n",
        "      filtered_users = newerdata[~newerdata['UserId'].isin(excluded_users)]  # Exclude already recommended users\n",
        "      filtered_users = filtered_users[filtered_users['TrackLearned'] == technology]\n",
        "      filtered_users = filtered_users.drop('TrackLearned', axis=1)  # Exclude TrackLearned from recommendation\n",
        "      encoded_filtered = filtered_users.apply(le.fit_transform, axis=0)\n",
        "      user_similarity = cosine_similarity(encoded_filtered)\n",
        "      similar_scores = pd.Series(user_similarity[0], index=filtered_users['UserId'])\n",
        "      similar_users = similar_scores.sort_values(ascending=False)[1:k+1].index.tolist()\n",
        "      recommendations.setdefault(technology, []).extend(similar_users[:k])  # Append recommendations\n",
        "      excluded_users.update(similar_users[:k])  # Add recommended users to excluded\n",
        "    # Check if any new recommendations were found\n",
        "    return recommendations != {}"
      ],
      "metadata": {
        "id": "uDHfKTivWLRb"
      },
      "execution_count": 142,
      "outputs": []
    },
    {
      "cell_type": "code",
      "source": [
        "def recommend_peers(user_id, k=5):\n",
        "  recommendations = {}\n",
        "\n",
        "  for technology in newerdata['TrackLearned'].explode().unique():\n",
        "    filtered = pd.DataFrame(newerdata[newerdata[\"TrackLearned\"] == technology])\n",
        "    filtered['UserId'] = filtered['UserId'].astype(str)\n",
        "    encoded_data = filtered.apply(le.fit_transform, axis=0)\n",
        "    similarity_matrix = cosine_similarity(encoded_data)\n",
        "    similarity_df = pd.DataFrame(similarity_matrix, index=filtered['UserId'], columns=filtered['UserId'])\n",
        "\n",
        "    if user_id not in similarity_df.index:\n",
        "      continue\n",
        "\n",
        "    similar_scores = similarity_df.loc[user_id].sort_values(ascending=False)\n",
        "    similar_users = similar_scores[1:k+1].index.tolist()\n",
        "\n",
        "    recommendations.setdefault(technology, []).extend(similar_users)\n",
        "\n",
        "  return recommendations\n",
        "\n",
        "# Example\n",
        "recommend_peers('ad70ff26-d4d2-4e46-a789-305fc4f6b647')"
      ],
      "metadata": {
        "colab": {
          "base_uri": "https://localhost:8080/"
        },
        "id": "KStXJnxyPUxN",
        "outputId": "37fa33f0-36ab-40cd-936b-752272287ffa"
      },
      "execution_count": 146,
      "outputs": [
        {
          "output_type": "execute_result",
          "data": {
            "text/plain": [
              "{'Frontend': ['b2f9eae1-fdf4-4861-aeb0-053d46e1964c',\n",
              "  'eb1cc09b-681d-479f-b720-cbe4a711c489',\n",
              "  'f63b22fc-2de8-41a1-a45a-c34da9e547a5',\n",
              "  '5e33aa21-5b2c-45df-a81a-027272f8f722',\n",
              "  'e17bda85-98e1-4dc5-a7e5-3fd790116fcf']}"
            ]
          },
          "metadata": {},
          "execution_count": 146
        }
      ]
    }
  ]
}